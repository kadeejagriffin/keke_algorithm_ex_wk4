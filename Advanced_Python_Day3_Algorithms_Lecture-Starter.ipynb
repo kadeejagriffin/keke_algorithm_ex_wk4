{
 "cells": [
  {
   "cell_type": "markdown",
   "metadata": {},
   "source": [
    "# Classic Algorithms"
   ]
  },
  {
   "cell_type": "markdown",
   "metadata": {},
   "source": [
    "## Tasks Today:\n",
    "\n",
    "1) <b>Intro to Algorithms</b> <br>\n",
    " &nbsp;&nbsp;&nbsp;&nbsp; a) What are algorithms <br>\n",
    " &nbsp;&nbsp;&nbsp;&nbsp; b) Quick Intro to Big-O Notation <br>\n",
    "2) <b>In-Place Algorithms</b> <br>\n",
    " &nbsp;&nbsp;&nbsp;&nbsp; a) Syntax <br>\n",
    " &nbsp;&nbsp;&nbsp;&nbsp; a) Out of Place Algorithm <br>\n",
    " &nbsp;&nbsp;&nbsp;&nbsp; b) In-Class Exercise #1 <br>\n",
    "3) <b>Two Pointers</b> <br>\n",
    "4) <b>Sorting Algorithms</b> <br>\n",
    "5) <b>Merge Sort</b> <br>\n",
    " &nbsp;&nbsp;&nbsp;&nbsp; a) Video on Algorithms <br>\n",
    " &nbsp;&nbsp;&nbsp;&nbsp; b) How it Works <br>\n",
    "6) <b>Exercises</b> <br>\n",
    " &nbsp;&nbsp;&nbsp;&nbsp; a) Exercise #1 - Reverse a List in Place Using an In-Place Algorithm <br>\n",
    " &nbsp;&nbsp;&nbsp;&nbsp; b) Exercise #2 - Find Distinct Words <br>\n",
    " &nbsp;&nbsp;&nbsp;&nbsp; c) Exercise #3 - Write a program to implement a Linear Search Algorithm. <br>"
   ]
  },
  {
   "cell_type": "markdown",
   "metadata": {},
   "source": [
    "## Intro to Algorithms"
   ]
  },
  {
   "cell_type": "markdown",
   "metadata": {},
   "source": [
    "#### What is an algorithm"
   ]
  },
  {
   "cell_type": "markdown",
   "metadata": {},
   "source": [
    "- An algorithm is a set of instructions for solving a problem \n",
    "- Algorithms are used to solve all types of problems such as sorting data and searching for information\n",
    "- Being able to write efficient algorithms is an important part of being a computer programmer"
   ]
  },
  {
   "cell_type": "markdown",
   "metadata": {},
   "source": [
    "#### Quick Intro to Big O Notation"
   ]
  },
  {
   "cell_type": "markdown",
   "metadata": {},
   "source": [
    "Time and space complexity is the measure of how much time a given action(function) will take to solve a problem. In the same fashion, we determine how much a given data structure will need in terms of memory allocation. A problem can have multiple solutions and finding the optimal solution for the problem needs to be analyzed in time and space.\n",
    "<br>\n",
    "See more <a href=\"https://zippy-lan-200.notion.site/Intro-to-Time-Complexity-ae4a9c7dbefb4b9f9351ade7a2b2fa72\">here</a>"
   ]
  },
  {
   "cell_type": "code",
   "execution_count": 22,
   "metadata": {},
   "outputs": [
    {
     "name": "stdout",
     "output_type": "stream",
     "text": [
      "i=1, j=1\n",
      "i=1, j=2\n",
      "i=1, j=3\n",
      "i=1, j=4\n",
      "i=2, j=1\n",
      "i=2, j=2\n",
      "i=2, j=3\n",
      "i=2, j=4\n",
      "i=3, j=1\n",
      "i=3, j=2\n",
      "i=3, j=3\n",
      "i=3, j=4\n",
      "i=4, j=1\n",
      "i=4, j=2\n",
      "i=4, j=3\n",
      "i=4, j=4\n"
     ]
    }
   ],
   "source": [
    "nums = [1, 2, 3, 4]\n",
    "\n",
    "for i in nums:\n",
    "    for j in nums:\n",
    "        print(f\"i={i}, j={j}\")"
   ]
  },
  {
   "cell_type": "markdown",
   "metadata": {},
   "source": [
    "## In-Place Algorithms"
   ]
  },
  {
   "cell_type": "markdown",
   "metadata": {},
   "source": [
    "#### Syntax"
   ]
  },
  {
   "cell_type": "code",
   "execution_count": 23,
   "metadata": {},
   "outputs": [],
   "source": [
    "my_list = ['a', 'b', 'c', 'd', 'e', 'f']"
   ]
  },
  {
   "cell_type": "code",
   "execution_count": 24,
   "metadata": {},
   "outputs": [
    {
     "data": {
      "text/plain": [
       "['a', 'e', 'c', 'd', 'e', 'f']"
      ]
     },
     "execution_count": 24,
     "metadata": {},
     "output_type": "execute_result"
    }
   ],
   "source": [
    "# Write a function that wil sawp two elements of a list In-PLace (i.e modify that list)\n",
    "\n",
    "def swap(a_list, index1, index2):\n",
    "    temp = a_list[index1]\n",
    "    a_list[index1] = a_list[index2]\n",
    "    a_list[index2] = a_list[index1]\n",
    "    return a_list\n",
    "\n",
    "swap(my_list, 1, 4)"
   ]
  },
  {
   "cell_type": "code",
   "execution_count": 25,
   "metadata": {},
   "outputs": [
    {
     "name": "stdout",
     "output_type": "stream",
     "text": [
      "['a', 'e', 'c', 'd', 'e', 'f']\n"
     ]
    }
   ],
   "source": [
    "print(my_list)"
   ]
  },
  {
   "cell_type": "code",
   "execution_count": 26,
   "metadata": {},
   "outputs": [
    {
     "data": {
      "text/plain": [
       "['dog', 'horse', 'bird', 'horse', 'cow']"
      ]
     },
     "execution_count": 26,
     "metadata": {},
     "output_type": "execute_result"
    }
   ],
   "source": [
    "# a_list[a], a_list[b] = a_list[b], a_list[a]\n",
    "def swab(a_list, index_a, index_b):\n",
    "    a_list[index_a], a_list[index_b] = a_list[index_b], a_list[index_a]\n",
    "    return a_list\n",
    "\n",
    "my_new_list = ['dog', 'cat', 'bird', 'horse', 'cow']\n",
    "\n",
    "swap(my_new_list, 1, 3)"
   ]
  },
  {
   "cell_type": "code",
   "execution_count": 27,
   "metadata": {},
   "outputs": [
    {
     "name": "stdout",
     "output_type": "stream",
     "text": [
      "Before:  ['soccer', 'football', 'baseball', 'volleyball', 'basketball', 'hockey']\n",
      "After:  ['soccer', 'football', 'hockey', 'volleyball', 'basketball', 'hockey']\n"
     ]
    }
   ],
   "source": [
    "sports = ['soccer', 'football', 'baseball', 'volleyball', 'basketball', 'hockey']\n",
    "\n",
    "print('Before: ', sports)\n",
    "swap(sports, 2, 5)\n",
    "print('After: ', sports)"
   ]
  },
  {
   "cell_type": "markdown",
   "metadata": {},
   "source": [
    "#### Out of Place Algorithm"
   ]
  },
  {
   "cell_type": "code",
   "execution_count": 28,
   "metadata": {
    "scrolled": true
   },
   "outputs": [],
   "source": [
    "def out_of_place_swap(a_list, index_a, index_b):\n",
    "    new_list = a_list[:] # create a copy of a_list\n",
    "    new_list[index_a] = a_list[index_b]\n",
    "    new_list[index_b] = a_list[index_a]\n",
    "    return a_list"
   ]
  },
  {
   "cell_type": "code",
   "execution_count": 29,
   "metadata": {},
   "outputs": [
    {
     "name": "stdout",
     "output_type": "stream",
     "text": [
      "Before:  ['Africa', 'Antarctica', 'Asia', 'Australia', 'Europe', 'North America', 'South America']\n",
      "After:  ['Africa', 'Antarctica', 'Asia', 'Australia', 'Europe', 'North America', 'South America']\n",
      "New List: ['Africa', 'Antarctica', 'Asia', 'Australia', 'Europe', 'North America', 'South America']\n"
     ]
    }
   ],
   "source": [
    "continents = ['Africa', 'Antarctica', 'Asia', 'Australia', 'Europe', 'North America', 'South America']\n",
    "\n",
    "\n",
    "print('Before: ', continents)\n",
    "swapped_continents = out_of_place_swap(continents, 0, 6)\n",
    "print('After: ', continents)\n",
    "print('New List:', swapped_continents)"
   ]
  },
  {
   "cell_type": "code",
   "execution_count": 30,
   "metadata": {
    "scrolled": true
   },
   "outputs": [],
   "source": [
    "# .sort() method is in-place\n"
   ]
  },
  {
   "cell_type": "code",
   "execution_count": 31,
   "metadata": {},
   "outputs": [],
   "source": [
    "# sorted function is out-of-place\n"
   ]
  },
  {
   "cell_type": "markdown",
   "metadata": {},
   "source": [
    "#### In-Class Exercise #1 <br>\n",
    "<p>Write a function that takes in four arguments (a_list, index1, index2, index3), and swaps those three positions in the list passed in.</p>"
   ]
  },
  {
   "cell_type": "code",
   "execution_count": 32,
   "metadata": {},
   "outputs": [
    {
     "name": "stdout",
     "output_type": "stream",
     "text": [
      "['Illinois', 'Minnesota', 'Wisconsin', 'Michigan', 'Indiana', 'Missouri']\n"
     ]
    }
   ],
   "source": [
    "some_list = ['Illinois', 'Indiana', 'Wisconsin', 'Minnesota', 'Michigan', 'Missouri']\n",
    "#Possible Output: ['Illinois', 'Minnesota', 'Wisconsin', 'Michigan', 'Indiana', 'Missouri']\n",
    "\n",
    "\n",
    "def swap_three(lst, a, b, c):\n",
    "    lst[a], lst[b], lst[c] = lst[b], lst[c], lst[a]\n",
    "\n",
    "swap_three(some_list, 1, 3, 4)\n",
    "print(some_list)\n",
    "    "
   ]
  },
  {
   "cell_type": "markdown",
   "metadata": {},
   "source": [
    "## Two Pointers"
   ]
  },
  {
   "cell_type": "markdown",
   "metadata": {},
   "source": [
    "#### Syntax"
   ]
  },
  {
   "cell_type": "code",
   "execution_count": 33,
   "metadata": {},
   "outputs": [],
   "source": [
    "# write a function to reverse a list in place\n",
    "def reverse_list(lst):\n",
    "    left = 0 # Start at the far left end of the list \n",
    "    right = len(lst) - 1 # Start at the far right end of the list\n",
    "    while left < right:\n",
    "        lst[left], lst[right] = lst[right], lst[left] # Swap the values at the let and rigth index\n",
    "        left += 1 #Move the left pointer to the right by 1\n",
    "        right -= 1 # Move the right pointer to the left by 1\n",
    "    # once the left is right of right, we can retun the swapped (original) list\n",
    "    return lst"
   ]
  },
  {
   "cell_type": "code",
   "execution_count": 34,
   "metadata": {},
   "outputs": [
    {
     "name": "stdout",
     "output_type": "stream",
     "text": [
      "['Illinois', 'Minnesota', 'Wisconsin', 'Michigan', 'Indiana', 'Missouri']\n"
     ]
    }
   ],
   "source": [
    "print(some_list)"
   ]
  },
  {
   "cell_type": "code",
   "execution_count": 35,
   "metadata": {},
   "outputs": [
    {
     "data": {
      "text/plain": [
       "['Missouri', 'Indiana', 'Michigan', 'Wisconsin', 'Minnesota', 'Illinois']"
      ]
     },
     "execution_count": 35,
     "metadata": {},
     "output_type": "execute_result"
    }
   ],
   "source": [
    "reverse_list(some_list)"
   ]
  },
  {
   "cell_type": "code",
   "execution_count": 36,
   "metadata": {},
   "outputs": [],
   "source": [
    "list_to_sort = [47, 30, 50, 26, 21, 26, 46, 25, 6, 1]"
   ]
  },
  {
   "cell_type": "markdown",
   "metadata": {},
   "source": [
    "# Sorting Algorithms"
   ]
  },
  {
   "cell_type": "code",
   "execution_count": 37,
   "metadata": {},
   "outputs": [
    {
     "name": "stdout",
     "output_type": "stream",
     "text": [
      "[47, 30, 50, 26, 21, 26, 46, 25, 6, 1]\n"
     ]
    }
   ],
   "source": [
    "from random import randint\n",
    "\n",
    "list_t0_sort = [randint(1, 50) for _ in range(10)]\n",
    "\n",
    "print(list_to_sort)\n"
   ]
  },
  {
   "cell_type": "markdown",
   "metadata": {},
   "source": [
    "#### Bubble Sort\n",
    "\n",
    "Worst Case: O(n^2) Time - O(1) Space"
   ]
  },
  {
   "cell_type": "code",
   "execution_count": 38,
   "metadata": {},
   "outputs": [],
   "source": [
    "def bubble_sort(lst):\n",
    "    # When we first start, set up a variable (swapped) to True to being while loop\n",
    "    swapped = True\n",
    "    while swapped:\n",
    "        # Begin checking with the assumption (hope?) tat we don't have to make any swaps (aka list is already sorted)\n",
    "        swapped = False\n",
    "        # Start at the 0-index and loop through to the second to last item(becuase we check item and item to right)\n",
    "        for idx in range(len(lst) - 1):\n",
    "        # Check if the value at inx is greater than the value to its right \n",
    "            if lst[idx] > lst[idx+1]:\n",
    "                #swap those two values\n",
    "                lst[idx], lst[idx+1] = lst[idx+1], lst[idx]\n",
    "                # Since we made a swap, chnage the value of the swapped to True\n",
    "                swapped = True \n",
    "            # Once we Loop through without making a swap, our list is sorted and we can return  "
   ]
  },
  {
   "cell_type": "code",
   "execution_count": 39,
   "metadata": {},
   "outputs": [
    {
     "name": "stdout",
     "output_type": "stream",
     "text": [
      "[1, 6, 21, 25, 26, 26, 30, 46, 47, 50]\n"
     ]
    }
   ],
   "source": [
    "bubble_sort(list_to_sort)\n",
    "\n",
    "print(list_to_sort)"
   ]
  },
  {
   "cell_type": "code",
   "execution_count": null,
   "metadata": {},
   "outputs": [],
   "source": []
  },
  {
   "cell_type": "markdown",
   "metadata": {},
   "source": [
    "##### Insertion Sort\n",
    "\n",
    "Worst Case: O(n^2) time - O(1)space"
   ]
  },
  {
   "cell_type": "code",
   "execution_count": 40,
   "metadata": {},
   "outputs": [
    {
     "name": "stdout",
     "output_type": "stream",
     "text": [
      "[48, 7, 42, 3, 23, 37, 50, 31, 4, 45]\n"
     ]
    }
   ],
   "source": [
    "list_to_sort = [randint(1, 50) for _ in range(10)]\n",
    "\n",
    "print(list_to_sort)"
   ]
  },
  {
   "cell_type": "code",
   "execution_count": 41,
   "metadata": {},
   "outputs": [],
   "source": [
    "def insertion_sort(lst):\n",
    "    # Loop over the unsorted section (strart at 1-index because the 0-index is 'sorted')\n",
    "    for i in range(1, len(lst)):\n",
    "        pointer = i \n",
    "        # While we are not at the fornt of the list AND the element to the left is greater than our element\n",
    "        while pointer > 0 and lst(pointer-1) > lst[pointer]:\n",
    "            # Swap the element with the element to its left\n",
    "            lst[pointer], lst[pointer-1] = lst[pointer-1], lst[pointer]\n",
    "            # Move the pointer to the left one index (to match the new swap)\n",
    "            pointer -= 1\n",
    "        # Once we've looped over the unordered section, the list should be ordered\n",
    "    return lst"
   ]
  },
  {
   "cell_type": "code",
   "execution_count": 42,
   "metadata": {},
   "outputs": [
    {
     "ename": "TypeError",
     "evalue": "'list' object is not callable",
     "output_type": "error",
     "traceback": [
      "\u001b[0;31m---------------------------------------------------------------------------\u001b[0m",
      "\u001b[0;31mTypeError\u001b[0m                                 Traceback (most recent call last)",
      "Cell \u001b[0;32mIn[42], line 1\u001b[0m\n\u001b[0;32m----> 1\u001b[0m \u001b[43minsertion_sort\u001b[49m\u001b[43m(\u001b[49m\u001b[43mlist_to_sort\u001b[49m\u001b[43m)\u001b[49m\n",
      "Cell \u001b[0;32mIn[41], line 6\u001b[0m, in \u001b[0;36minsertion_sort\u001b[0;34m(lst)\u001b[0m\n\u001b[1;32m      4\u001b[0m pointer \u001b[38;5;241m=\u001b[39m i \n\u001b[1;32m      5\u001b[0m \u001b[38;5;66;03m# While we are not at the fornt of the list AND the element to the left is greater than our element\u001b[39;00m\n\u001b[0;32m----> 6\u001b[0m \u001b[38;5;28;01mwhile\u001b[39;00m pointer \u001b[38;5;241m>\u001b[39m \u001b[38;5;241m0\u001b[39m \u001b[38;5;129;01mand\u001b[39;00m \u001b[43mlst\u001b[49m\u001b[43m(\u001b[49m\u001b[43mpointer\u001b[49m\u001b[38;5;241;43m-\u001b[39;49m\u001b[38;5;241;43m1\u001b[39;49m\u001b[43m)\u001b[49m \u001b[38;5;241m>\u001b[39m lst[pointer]:\n\u001b[1;32m      7\u001b[0m     \u001b[38;5;66;03m# Swap the element with the element to its left\u001b[39;00m\n\u001b[1;32m      8\u001b[0m     lst[pointer], lst[pointer\u001b[38;5;241m-\u001b[39m\u001b[38;5;241m1\u001b[39m] \u001b[38;5;241m=\u001b[39m lst[pointer\u001b[38;5;241m-\u001b[39m\u001b[38;5;241m1\u001b[39m], lst[pointer]\n\u001b[1;32m      9\u001b[0m     \u001b[38;5;66;03m# Move the pointer to the left one index (to match the new swap)\u001b[39;00m\n",
      "\u001b[0;31mTypeError\u001b[0m: 'list' object is not callable"
     ]
    }
   ],
   "source": [
    "insertion_sort(list_to_sort)"
   ]
  },
  {
   "cell_type": "code",
   "execution_count": null,
   "metadata": {},
   "outputs": [],
   "source": []
  },
  {
   "cell_type": "markdown",
   "metadata": {},
   "source": [
    "## Merge Sort"
   ]
  },
  {
   "cell_type": "markdown",
   "metadata": {},
   "source": [
    "#### How it Works"
   ]
  },
  {
   "cell_type": "code",
   "execution_count": null,
   "metadata": {},
   "outputs": [
    {
     "name": "stdout",
     "output_type": "stream",
     "text": [
      "[31, 13, 35, 47, 43, 42, 47, 46]\n"
     ]
    }
   ],
   "source": [
    "list_to_sort = [randint(1, 50) for _ in range(8)]\n",
    "\n",
    "print(list_to_sort)"
   ]
  },
  {
   "cell_type": "code",
   "execution_count": null,
   "metadata": {},
   "outputs": [],
   "source": [
    "def merge_sort(lst):\n",
    "    if len(lst) > 1:\n",
    "        #Find the midway point of the list\n",
    "        mid = len(lst) // 2\n",
    "        # Split the list into a left and right half\n",
    "        left_half = lst[:mid]\n",
    "        right_half = lst[mid:]\n",
    "        # call merge_sort on the left half\n",
    "        merge_sort(left_half)\n",
    "        # call merge_sort on the right half\n",
    "        merge_sort(right_half)\n",
    "        \n",
    "        # Merge the left and right half back into the original list\n",
    "        \n",
    "        #index pointers for each list\n",
    "        l = 0 # pointer for left half\n",
    "        r = 0 # pointer for right half\n",
    "        m = 0 # pointer fo rmain list\n",
    "        \n",
    "        # while both the left and right pointers are pointing at values\n",
    "        while l < len(left_half) and r < (right_half):\n",
    "            # if the left half element is smalller \n",
    "            if left_half[l] < right_half[r]:\n",
    "                # Place the left half value into the original list\n",
    "                lst[m] = left_half[l]\n",
    "                # Move the left pointer to the right one element\n",
    "                l += 1 \n",
    "            else:\n",
    "                # place the right half value into the original list\n",
    "                lst[m] = right_half[r]\n",
    "                # move the right pointer to the right element\n",
    "                r += 1\n",
    "            #Either way, move the main pointer to the rigjht\n",
    "                m += 1\n",
    "            \n",
    "        while l < len(left_half):\n",
    "            lst[m] = left_half[l]\n",
    "            l += 1\n",
    "            m += 1\n",
    "        while r < len(right_half):\n",
    "            lst[m] = right_half[r]\n",
    "            r += 1\n",
    "            m += 1\n",
    "            \n",
    "    return lst\n",
    "    \n",
    "                "
   ]
  },
  {
   "cell_type": "code",
   "execution_count": null,
   "metadata": {},
   "outputs": [
    {
     "ename": "TypeError",
     "evalue": "'<' not supported between instances of 'int' and 'list'",
     "output_type": "error",
     "traceback": [
      "\u001b[0;31m---------------------------------------------------------------------------\u001b[0m",
      "\u001b[0;31mTypeError\u001b[0m                                 Traceback (most recent call last)",
      "Cell \u001b[0;32mIn[47], line 1\u001b[0m\n\u001b[0;32m----> 1\u001b[0m merge_sort(list_to_sort)\n",
      "Cell \u001b[0;32mIn[46], line 9\u001b[0m, in \u001b[0;36mmerge_sort\u001b[0;34m(lst)\u001b[0m\n\u001b[1;32m      7\u001b[0m right_half \u001b[38;5;241m=\u001b[39m lst[mid:]\n\u001b[1;32m      8\u001b[0m \u001b[38;5;66;03m# call merge_sort on the left half\u001b[39;00m\n\u001b[0;32m----> 9\u001b[0m merge_sort(left_half)\n\u001b[1;32m     10\u001b[0m \u001b[38;5;66;03m# call merge_sort on the right half\u001b[39;00m\n\u001b[1;32m     11\u001b[0m merge_sort(right_half)\n",
      "Cell \u001b[0;32mIn[46], line 9\u001b[0m, in \u001b[0;36mmerge_sort\u001b[0;34m(lst)\u001b[0m\n\u001b[1;32m      7\u001b[0m right_half \u001b[38;5;241m=\u001b[39m lst[mid:]\n\u001b[1;32m      8\u001b[0m \u001b[38;5;66;03m# call merge_sort on the left half\u001b[39;00m\n\u001b[0;32m----> 9\u001b[0m merge_sort(left_half)\n\u001b[1;32m     10\u001b[0m \u001b[38;5;66;03m# call merge_sort on the right half\u001b[39;00m\n\u001b[1;32m     11\u001b[0m merge_sort(right_half)\n",
      "Cell \u001b[0;32mIn[46], line 21\u001b[0m, in \u001b[0;36mmerge_sort\u001b[0;34m(lst)\u001b[0m\n\u001b[1;32m     18\u001b[0m m \u001b[38;5;241m=\u001b[39m \u001b[38;5;241m0\u001b[39m \u001b[38;5;66;03m# pointer fo rmain list\u001b[39;00m\n\u001b[1;32m     20\u001b[0m \u001b[38;5;66;03m# while both the left and right pointers are pointing at values\u001b[39;00m\n\u001b[0;32m---> 21\u001b[0m \u001b[38;5;28;01mwhile\u001b[39;00m l \u001b[38;5;241m<\u001b[39m \u001b[38;5;28mlen\u001b[39m(left_half) \u001b[38;5;129;01mand\u001b[39;00m r \u001b[38;5;241m<\u001b[39m (right_half):\n\u001b[1;32m     22\u001b[0m     \u001b[38;5;66;03m# if the left half element is smalller \u001b[39;00m\n\u001b[1;32m     23\u001b[0m     \u001b[38;5;28;01mif\u001b[39;00m left_half[l] \u001b[38;5;241m<\u001b[39m right_half[r]:\n\u001b[1;32m     24\u001b[0m         \u001b[38;5;66;03m# Place the left half value into the original list\u001b[39;00m\n\u001b[1;32m     25\u001b[0m         lst[m] \u001b[38;5;241m=\u001b[39m left_half[l]\n",
      "\u001b[0;31mTypeError\u001b[0m: '<' not supported between instances of 'int' and 'list'"
     ]
    }
   ],
   "source": [
    "merge_sort(list_to_sort)"
   ]
  },
  {
   "cell_type": "markdown",
   "metadata": {},
   "source": [
    "# Binary Search\n",
    "\n",
    "The Binary Search algorithm works by finding the number in the middle of a given array and comparing it to the target. **Given that the array is sorted**\n",
    "\n",
    "* The worst case run time for this algorithm is `O(log(n))`"
   ]
  },
  {
   "cell_type": "code",
   "execution_count": null,
   "metadata": {},
   "outputs": [
    {
     "ename": "TypeError",
     "evalue": "'<' not supported between instances of 'int' and 'list'",
     "output_type": "error",
     "traceback": [
      "\u001b[0;31m---------------------------------------------------------------------------\u001b[0m",
      "\u001b[0;31mTypeError\u001b[0m                                 Traceback (most recent call last)",
      "Cell \u001b[0;32mIn[63], line 2\u001b[0m\n\u001b[1;32m      1\u001b[0m list_to_search \u001b[38;5;241m=\u001b[39m [randint(\u001b[38;5;241m1\u001b[39m,\u001b[38;5;241m100\u001b[39m) \u001b[38;5;28;01mfor\u001b[39;00m _ \u001b[38;5;129;01min\u001b[39;00m \u001b[38;5;28mrange\u001b[39m(\u001b[38;5;241m20\u001b[39m)]\n\u001b[0;32m----> 2\u001b[0m merge_sort(list_to_search)\n\u001b[1;32m      3\u001b[0m \u001b[38;5;28mprint\u001b[39m(list_to_search)\n",
      "Cell \u001b[0;32mIn[48], line 9\u001b[0m, in \u001b[0;36mmerge_sort\u001b[0;34m(lst)\u001b[0m\n\u001b[1;32m      7\u001b[0m right_half \u001b[38;5;241m=\u001b[39m lst[mid:]\n\u001b[1;32m      8\u001b[0m \u001b[38;5;66;03m# call merge_sort on the left half\u001b[39;00m\n\u001b[0;32m----> 9\u001b[0m merge_sort(left_half)\n\u001b[1;32m     10\u001b[0m \u001b[38;5;66;03m# call merge_sort on the right half\u001b[39;00m\n\u001b[1;32m     11\u001b[0m merge_sort(right_half)\n",
      "Cell \u001b[0;32mIn[48], line 9\u001b[0m, in \u001b[0;36mmerge_sort\u001b[0;34m(lst)\u001b[0m\n\u001b[1;32m      7\u001b[0m right_half \u001b[38;5;241m=\u001b[39m lst[mid:]\n\u001b[1;32m      8\u001b[0m \u001b[38;5;66;03m# call merge_sort on the left half\u001b[39;00m\n\u001b[0;32m----> 9\u001b[0m merge_sort(left_half)\n\u001b[1;32m     10\u001b[0m \u001b[38;5;66;03m# call merge_sort on the right half\u001b[39;00m\n\u001b[1;32m     11\u001b[0m merge_sort(right_half)\n",
      "Cell \u001b[0;32mIn[48], line 9\u001b[0m, in \u001b[0;36mmerge_sort\u001b[0;34m(lst)\u001b[0m\n\u001b[1;32m      7\u001b[0m right_half \u001b[38;5;241m=\u001b[39m lst[mid:]\n\u001b[1;32m      8\u001b[0m \u001b[38;5;66;03m# call merge_sort on the left half\u001b[39;00m\n\u001b[0;32m----> 9\u001b[0m merge_sort(left_half)\n\u001b[1;32m     10\u001b[0m \u001b[38;5;66;03m# call merge_sort on the right half\u001b[39;00m\n\u001b[1;32m     11\u001b[0m merge_sort(right_half)\n",
      "Cell \u001b[0;32mIn[48], line 21\u001b[0m, in \u001b[0;36mmerge_sort\u001b[0;34m(lst)\u001b[0m\n\u001b[1;32m     18\u001b[0m m \u001b[38;5;241m=\u001b[39m \u001b[38;5;241m0\u001b[39m \u001b[38;5;66;03m# pointer fo rmain list\u001b[39;00m\n\u001b[1;32m     20\u001b[0m \u001b[38;5;66;03m# while both the left and right pointers are pointing at values\u001b[39;00m\n\u001b[0;32m---> 21\u001b[0m \u001b[38;5;28;01mwhile\u001b[39;00m l \u001b[38;5;241m<\u001b[39m \u001b[38;5;28mlen\u001b[39m(left_half) \u001b[38;5;129;01mand\u001b[39;00m r \u001b[38;5;241m<\u001b[39m (right_half):\n\u001b[1;32m     22\u001b[0m     \u001b[38;5;66;03m# if the left half element is smalller \u001b[39;00m\n\u001b[1;32m     23\u001b[0m     \u001b[38;5;28;01mif\u001b[39;00m left_half[l] \u001b[38;5;241m<\u001b[39m right_half[r]:\n\u001b[1;32m     24\u001b[0m         \u001b[38;5;66;03m# Place the left half value into the original list\u001b[39;00m\n\u001b[1;32m     25\u001b[0m         lst[m] \u001b[38;5;241m=\u001b[39m left_half[l]\n",
      "\u001b[0;31mTypeError\u001b[0m: '<' not supported between instances of 'int' and 'list'"
     ]
    }
   ],
   "source": [
    "list_to_search = [randint(1,100) for _ in range(20)]\n",
    "merge_sort(list_to_search)\n",
    "print(list_to_search)"
   ]
  },
  {
   "cell_type": "code",
   "execution_count": null,
   "metadata": {},
   "outputs": [],
   "source": [
    "def binary_search(lst, target):\n",
    "    low = 0 \n",
    "    high = len(lst) - 1\n",
    "    while low <= high:\n",
    "        mid = (low + high) // 2\n",
    "        if target == lst[mid]:\n",
    "            return f\"The index for {target} is {mid}\"\n",
    "        elif target > lst[mid]:\n",
    "            low = mid + 1\n",
    "        else:\n",
    "            high = mid - 1\n",
    "        # If low ever gets higher than high, we know the target is not in the list\n",
    "        return -1\n"
   ]
  },
  {
   "cell_type": "code",
   "execution_count": null,
   "metadata": {},
   "outputs": [
    {
     "data": {
      "text/plain": [
       "-1"
      ]
     },
     "execution_count": 55,
     "metadata": {},
     "output_type": "execute_result"
    }
   ],
   "source": [
    "binary_search(list_to_search, 67)"
   ]
  },
  {
   "cell_type": "code",
   "execution_count": null,
   "metadata": {},
   "outputs": [
    {
     "name": "stdout",
     "output_type": "stream",
     "text": [
      "[0, 5, 10, 15, 20, 25, 30, 35, 40, 45, 50, 55, 60, 65, 70, 75, 80, 85, 90, 95, 100, 105, 110, 115, 120, 125, 130, 135, 140, 145, 150, 155, 160, 165, 170, 175, 180, 185, 190, 195, 200, 205, 210, 215, 220, 225, 230, 235, 240, 245, 250, 255, 260, 265, 270, 275, 280, 285, 290, 295, 300, 305, 310, 315, 320, 325, 330, 335, 340, 345, 350, 355, 360, 365, 370, 375, 380, 385, 390, 395, 400, 405, 410, 415, 420, 425, 430, 435, 440, 445, 450, 455, 460, 465, 470, 475, 480, 485, 490, 495, 500, 505, 510, 515, 520, 525, 530, 535, 540, 545, 550, 555, 560, 565, 570, 575, 580, 585, 590, 595, 600, 605, 610, 615, 620, 625, 630, 635, 640, 645, 650, 655, 660, 665, 670, 675, 680, 685, 690, 695, 700, 705, 710, 715, 720, 725, 730, 735, 740, 745, 750, 755, 760, 765, 770, 775, 780, 785, 790, 795, 800, 805, 810, 815, 820, 825, 830, 835, 840, 845, 850, 855, 860, 865, 870, 875, 880, 885, 890, 895, 900, 905, 910, 915, 920, 925, 930, 935, 940, 945, 950, 955, 960, 965, 970, 975, 980, 985, 990, 995]\n"
     ]
    }
   ],
   "source": [
    "list_of_fives = [x for x in range(0,1000,5)]\n",
    "print(list_of_fives)"
   ]
  },
  {
   "cell_type": "code",
   "execution_count": null,
   "metadata": {},
   "outputs": [
    {
     "data": {
      "text/plain": [
       "-1"
      ]
     },
     "execution_count": 59,
     "metadata": {},
     "output_type": "execute_result"
    }
   ],
   "source": [
    "binary_search(list_of_fives, 750)\n"
   ]
  },
  {
   "cell_type": "markdown",
   "metadata": {},
   "source": [
    "# Exercises"
   ]
  },
  {
   "cell_type": "markdown",
   "metadata": {},
   "source": [
    "### Exercise #1 <br>\n",
    "<p>Write a function that takes a list of integers and returns the median value. *Can assume that the list of integers is sorted in ascending value*.</p>"
   ]
  },
  {
   "cell_type": "code",
   "execution_count": 43,
   "metadata": {},
   "outputs": [],
   "source": [
    "def median(lst):\n",
    "    #Check if the length of the list is even or odd\n",
    "    if len(lst) % 2 == 1:\n",
    "            midway_index = len(lst) // 2 + 1 \n",
    "            return lst[midway_index]\n",
    "    else:\n",
    "        low_mid = len(lst) // 2 -1\n",
    "        high_mid = len(lst) // 2\n",
    "        return (lst[low_mid] + lst[high_mid]) / 2\n",
    "            "
   ]
  },
  {
   "cell_type": "code",
   "execution_count": 44,
   "metadata": {},
   "outputs": [
    {
     "name": "stdout",
     "output_type": "stream",
     "text": [
      "3\n"
     ]
    }
   ],
   "source": [
    "my_test_list = [1, 2, 3, 4, 5]\n",
    "\n",
    "mid = len(my_test_list) // 2\n",
    "\n",
    "print(my_test_list[mid])"
   ]
  },
  {
   "cell_type": "markdown",
   "metadata": {},
   "source": [
    "### Exercise #2 <br>\n",
    "<p>Create a function that counts how many distinct words are in the string below, then outputs a dictionary with the words as the key and the value as the amount of times that word appears in the string.</p>\n",
    "Example Output:<code>{'in': 1, 'computing': 1, 'a': 5, ...}</code>"
   ]
  },
  {
   "cell_type": "code",
   "execution_count": 47,
   "metadata": {},
   "outputs": [],
   "source": [
    "a_text = 'In computing, a hash table hash map is a data structure in computing which implements an associative array abstract data type, a structure that can map keys to values. A hash table uses a hash function to compute an index into an array of buckets or slots from which the desired value can be found'\n"
   ]
  },
  {
   "cell_type": "code",
   "execution_count": 63,
   "metadata": {},
   "outputs": [],
   "source": [
    "def count_words(string):\n",
    "    #Split the string into a list of words\n",
    "    words = string.split()\n",
    "    #create a dictionary to keep track of words and number of times we encounter that word\n",
    "    word_count = {}\n",
    "    # Look at each word in teh list of words\n",
    "    for word in words:\n",
    "        # If we have not seen that word yet\n",
    "        if word not in word_count:\n",
    "            # add the word to the dictionary with a value of 1 \n",
    "            word_count[word] = 1\n",
    "            # if we have seen the word already\n",
    "        else:\n",
    "            # increase the value associated with the word by 1\n",
    "            word_count[word] = 1\n",
    "    # Once we've looked at every word in the string, return the dictionary\n",
    "    return word_count"
   ]
  },
  {
   "cell_type": "code",
   "execution_count": 64,
   "metadata": {},
   "outputs": [
    {
     "name": "stdout",
     "output_type": "stream",
     "text": [
      "In computing, a hash table hash map is a data structure in computing which implements an associative array abstract data type, a structure that can map keys to values. A hash table uses a hash function to compute an index into an array of buckets or slots from which the desired value can be found\n",
      "<function count_words at 0x1066589a0>\n",
      "{'In': 1, 'computing,': 1, 'a': 1, 'hash': 1, 'table': 1, 'map': 1, 'is': 1, 'data': 1, 'structure': 1, 'in': 1, 'computing': 1, 'which': 1, 'implements': 1, 'an': 1, 'associative': 1, 'array': 1, 'abstract': 1, 'type,': 1, 'that': 1, 'can': 1, 'keys': 1, 'to': 1, 'values.': 1, 'A': 1, 'uses': 1, 'function': 1, 'compute': 1, 'index': 1, 'into': 1, 'of': 1, 'buckets': 1, 'or': 1, 'slots': 1, 'from': 1, 'the': 1, 'desired': 1, 'value': 1, 'be': 1, 'found': 1}\n"
     ]
    }
   ],
   "source": [
    "print(a_text)\n",
    "print(count_words)\n",
    "print(count_words(a_text))"
   ]
  },
  {
   "cell_type": "code",
   "execution_count": 65,
   "metadata": {},
   "outputs": [],
   "source": [
    "import re\n",
    "\n",
    "def count_words(string):\n",
    "    words = re.findall('[A-Za-z]', string)\n",
    "    word_count = {}\n",
    "    for word in words :\n",
    "        if word in word_count:\n",
    "            word_count[word] += 1\n",
    "        else: \n",
    "            word_count[word] += 1\n",
    "    "
   ]
  },
  {
   "cell_type": "markdown",
   "metadata": {},
   "source": [
    "## Exercise #3\n",
    "\n",
    "Write a function implementing a Linear Search Algorithm. A linear search is a method for finding an element within a list. It sequentially checks each element of the list until a match is found or the whole list has been searched. If you do not find a match, return -1. *You can assume the list is sorted*"
   ]
  },
  {
   "cell_type": "code",
   "execution_count": 66,
   "metadata": {},
   "outputs": [],
   "source": [
    "def linear_search(lst, target):\n",
    "    for idx in range(len(lst)):\n",
    "        if lst[idx] == target:\n",
    "            return f\"The index for {target} is {idx}\"\n",
    "        if lst[idx] > target:\n",
    "            return -1\n",
    "    return -1"
   ]
  },
  {
   "cell_type": "code",
   "execution_count": 72,
   "metadata": {},
   "outputs": [
    {
     "data": {
      "text/plain": [
       "-1"
      ]
     },
     "execution_count": 72,
     "metadata": {},
     "output_type": "execute_result"
    }
   ],
   "source": [
    "linear_search(my_test_list, 67)"
   ]
  },
  {
   "cell_type": "code",
   "execution_count": null,
   "metadata": {},
   "outputs": [],
   "source": []
  },
  {
   "cell_type": "code",
   "execution_count": null,
   "metadata": {},
   "outputs": [],
   "source": []
  },
  {
   "cell_type": "code",
   "execution_count": null,
   "metadata": {},
   "outputs": [],
   "source": []
  }
 ],
 "metadata": {
  "kernelspec": {
   "display_name": "Python 3 (ipykernel)",
   "language": "python",
   "name": "python3"
  },
  "language_info": {
   "codemirror_mode": {
    "name": "ipython",
    "version": 3
   },
   "file_extension": ".py",
   "mimetype": "text/x-python",
   "name": "python",
   "nbconvert_exporter": "python",
   "pygments_lexer": "ipython3",
   "version": "3.11.5"
  }
 },
 "nbformat": 4,
 "nbformat_minor": 2
}
